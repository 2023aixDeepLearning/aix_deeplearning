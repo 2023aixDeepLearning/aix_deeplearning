{
  "cells": [
    {
      "cell_type": "markdown",
      "metadata": {
        "id": "view-in-github",
        "colab_type": "text"
      },
      "source": [
        "<a href=\"https://colab.research.google.com/github/2023aixDeepLearning/aix_deeplearning/blob/%EC%9C%A4%EC%98%81/AIXDeepLearning%EC%A4%91%EA%B0%84%EB%B3%B8.ipynb\" target=\"_parent\"><img src=\"https://colab.research.google.com/assets/colab-badge.svg\" alt=\"Open In Colab\"/></a>"
      ]
    },
    {
      "cell_type": "markdown",
      "metadata": {
        "id": "UKH71KIUxU1o"
      },
      "source": [
        "# 필요한 모듈을 가져옵니다."
      ]
    },
    {
      "cell_type": "code",
      "execution_count": null,
      "metadata": {
        "id": "QhGKUOhTEAbV"
      },
      "outputs": [],
      "source": [
        "import warnings\n",
        "warnings.filterwarnings('ignore')\n",
        "import numpy as np\n",
        "import pandas as pd\n",
        "import matplotlib.pyplot as plt\n",
        "from cvxopt import matrix, solvers\n",
        "from cvxopt.solvers import qp\n",
        "from statsmodels.tsa.arima.model import ARIMA\n",
        "from scipy.optimize import minimize\n",
        "import xgboost as xgb\n",
        "from keras.models import Sequential\n",
        "from keras.layers import GRU, Dense\n",
        "from IPython.display import clear_output"
      ]
    },
    {
      "cell_type": "markdown",
      "metadata": {
        "id": "KCafCy7cSyZ_"
      },
      "source": [
        "# 주식 데이터를 가져옵니다.\n",
        "FinanceDataReader 모듈을 통해 코스피에 상장된 주식 데이터를 가져옵니다."
      ]
    },
    {
      "cell_type": "code",
      "execution_count": null,
      "metadata": {
        "colab": {
          "background_save": true,
          "base_uri": "https://localhost:8080/"
        },
        "id": "ivJiHkBHg69A",
        "outputId": "020e1ad8-6d90-4e9f-89a1-f7d1b94ecc58"
      },
      "outputs": [
        {
          "name": "stdout",
          "output_type": "stream",
          "text": [
            "Collecting finance-datareader\n",
            "  Downloading finance_datareader-0.9.62-py3-none-any.whl (23 kB)\n",
            "Requirement already satisfied: pandas>=0.19.2 in /usr/local/lib/python3.10/dist-packages (from finance-datareader) (1.5.3)\n",
            "Requirement already satisfied: requests>=2.3.0 in /usr/local/lib/python3.10/dist-packages (from finance-datareader) (2.31.0)\n",
            "Collecting requests-file (from finance-datareader)\n",
            "  Downloading requests_file-1.5.1-py2.py3-none-any.whl (3.7 kB)\n",
            "Requirement already satisfied: lxml in /usr/local/lib/python3.10/dist-packages (from finance-datareader) (4.9.3)\n",
            "Requirement already satisfied: tqdm in /usr/local/lib/python3.10/dist-packages (from finance-datareader) (4.66.1)\n",
            "Requirement already satisfied: python-dateutil>=2.8.1 in /usr/local/lib/python3.10/dist-packages (from pandas>=0.19.2->finance-datareader) (2.8.2)\n",
            "Requirement already satisfied: pytz>=2020.1 in /usr/local/lib/python3.10/dist-packages (from pandas>=0.19.2->finance-datareader) (2023.3.post1)\n",
            "Requirement already satisfied: numpy>=1.21.0 in /usr/local/lib/python3.10/dist-packages (from pandas>=0.19.2->finance-datareader) (1.23.5)\n",
            "Requirement already satisfied: charset-normalizer<4,>=2 in /usr/local/lib/python3.10/dist-packages (from requests>=2.3.0->finance-datareader) (3.3.2)\n",
            "Requirement already satisfied: idna<4,>=2.5 in /usr/local/lib/python3.10/dist-packages (from requests>=2.3.0->finance-datareader) (3.4)\n",
            "Requirement already satisfied: urllib3<3,>=1.21.1 in /usr/local/lib/python3.10/dist-packages (from requests>=2.3.0->finance-datareader) (2.0.7)\n",
            "Requirement already satisfied: certifi>=2017.4.17 in /usr/local/lib/python3.10/dist-packages (from requests>=2.3.0->finance-datareader) (2023.7.22)\n",
            "Requirement already satisfied: six in /usr/local/lib/python3.10/dist-packages (from requests-file->finance-datareader) (1.16.0)\n",
            "Installing collected packages: requests-file, finance-datareader\n",
            "Successfully installed finance-datareader-0.9.62 requests-file-1.5.1\n"
          ]
        }
      ],
      "source": [
        "!pip install -U finance-datareader\n",
        "import FinanceDataReader as fdr"
      ]
    },
    {
      "cell_type": "code",
      "execution_count": null,
      "metadata": {
        "id": "CxDfrf-8kLvV"
      },
      "outputs": [],
      "source": [
        "stock_name = fdr.StockListing('KOSPI')['Name'].to_list()\n",
        "stock_code = fdr.StockListing('KOSPI')['Code'].to_list()\n",
        "\n",
        "print(stock_name)\n",
        "print(stock_code)"
      ]
    },
    {
      "cell_type": "markdown",
      "metadata": {
        "id": "3_9yhbkiwMyF"
      },
      "source": [
        "코스피 주식 중 2000년 이전에 상장된 주식들을 선정하였습니다."
      ]
    },
    {
      "cell_type": "code",
      "execution_count": null,
      "metadata": {
        "id": "pC5G30Mfpj45"
      },
      "outputs": [],
      "source": [
        "my_portfolio = ['삼성전자', 'SK하이닉스','POSCO홀딩스', '현대차', '기아', '삼성SDI', '현대모비스', 'LG', '카카오', 'SK텔레콤', '기업은행', 'S-Oil', 'KT']\n",
        "len(my_portfolio)"
      ]
    },
    {
      "cell_type": "markdown",
      "metadata": {
        "id": "mC81Y39cwf37"
      },
      "source": [
        "주식의 종가를 바탕으로 포트폴리오 투자를 진행하기 위해 각 주식의 2000년 이후의 종가 데이터를 가져옵니다."
      ]
    },
    {
      "cell_type": "code",
      "execution_count": null,
      "metadata": {
        "id": "Q6a8CAWBmBc0"
      },
      "outputs": [],
      "source": [
        "stock_dict = dict(zip(stock_name, stock_code))\n",
        "\n",
        "stock_df = pd.DataFrame()\n",
        "\n",
        "for stock in my_portfolio:\n",
        "    stock_df[stock] = fdr.DataReader(stock_dict[stock], '2000-01-01', '2023-01-01')['Close']\n",
        "\n",
        "\n",
        "stock_df"
      ]
    },
    {
      "cell_type": "markdown",
      "metadata": {
        "id": "flDBP9WGwYm2"
      },
      "source": [
        "10 근무일 주기로 포트폴리오 리밸런싱할 것을 고려하여, 10근무일 주기의 데이터를 가져옵니다. 근무일은 주말과 휴일을 제외한 기간으로 매수, 매도가 가능한 기간입니다. 10 근무일은 약 2주정도 됩니다."
      ]
    },
    {
      "cell_type": "code",
      "execution_count": null,
      "metadata": {
        "id": "vkkUyrPawehZ"
      },
      "outputs": [],
      "source": [
        "df = stock_df.iloc[::10,:]\n",
        "df"
      ]
    },
    {
      "cell_type": "code",
      "execution_count": null,
      "metadata": {
        "id": "sDuMVG9EI34c"
      },
      "outputs": [],
      "source": [
        "def get_returns(result):\n",
        "  ans = [0]\n",
        "  for i in range(1, len(result)):\n",
        "    ans.append((result[i]-result[i-1])/result[i-1])\n",
        "  return ans\n",
        "def get_mean_return(returns):\n",
        "  return sum(returns)/len(returns)\n",
        "def get_risk(returns):\n",
        "  n = len(returns)\n",
        "  mean = sum(returns)/n\n",
        "  ans = 0\n",
        "  for i in range(n):\n",
        "    ans += (returns[i]-mean)**2\n",
        "  return (ans/n)**(1/2)\n",
        "\n"
      ]
    },
    {
      "cell_type": "code",
      "execution_count": null,
      "metadata": {
        "id": "vCr0f0f3K-TL"
      },
      "outputs": [],
      "source": [
        "mean_return_of_each_asset = []\n",
        "risk_of_each_asset = []\n",
        "\n",
        "for i in my_portfolio:\n",
        "\n",
        "  ret = get_returns(list(df[i]))\n",
        "  mean_return_of_each_asset.append(get_mean_return(ret))\n",
        "  risk_of_each_asset.append(get_risk(ret))\n"
      ]
    },
    {
      "cell_type": "code",
      "execution_count": null,
      "metadata": {
        "id": "Ax4GGdLCNAEq"
      },
      "outputs": [],
      "source": [
        "print(mean_return_of_each_asset)\n",
        "print(risk_of_each_asset)"
      ]
    },
    {
      "cell_type": "markdown",
      "metadata": {
        "id": "mdVYBvZyw_Q0"
      },
      "source": [
        "각 종목 별 총 기간의 평균 수익과 변동성을 확인합니다."
      ]
    },
    {
      "cell_type": "code",
      "execution_count": null,
      "metadata": {
        "id": "6goo-WCSbBI_"
      },
      "outputs": [],
      "source": [
        "pd.DataFrame({'mean_returns':mean_return_of_each_asset, 'Volatility':risk_of_each_asset},index=my_portfolio)"
      ]
    },
    {
      "cell_type": "code",
      "execution_count": null,
      "metadata": {
        "id": "SdMIRruHuwTf"
      },
      "outputs": [],
      "source": []
    },
    {
      "cell_type": "markdown",
      "metadata": {
        "id": "yTBBhxm2EoI4"
      },
      "source": [
        "# 포트폴리오 클래스 생성\n",
        "\n",
        "포트폴리오 최적화는 마코비츠 모델에 따라 진행합니다."
      ]
    },
    {
      "cell_type": "code",
      "execution_count": null,
      "metadata": {
        "id": "6Pl3U-ujMntj"
      },
      "outputs": [],
      "source": [
        "class Markowitz_model:\n",
        "  def __init__(self, params):\n",
        "    self.params = params\n",
        "    try:\n",
        "      if params['r_bar'] == 'XGB':\n",
        "        self.XGB_params = hyperparameters = {\n",
        "        'n_estimators': 50,\n",
        "        'learning_rate': 0.1,\n",
        "        'max_depth': 5,\n",
        "        'min_child_weight': 1,\n",
        "        'subsample': 0.8,\n",
        "        'colsample_bytree': 0.8,\n",
        "        'reg_alpha': 0,\n",
        "        'reg_lambda': 1}\n",
        "      elif params['r_bar'] == 'ARIMA':\n",
        "        self.order = (2,1,2)\n",
        "    except: pass\n",
        "\n",
        "  def invest_num(self, ratio, data, asset):  # 포트폴리오 비중, 자산 현황에 따른 주식 개수 반환\n",
        "\n",
        "    num_of_stock=[]\n",
        "    for i in range(len(ratio)):\n",
        "      num_of_stock.append(asset*ratio[i]//data[i])\n",
        "    return num_of_stock\n",
        "\n",
        "  def return_mat(self, df, n):   # 주가 matrix를 return matrix로 변환\n",
        "    df2 = df.copy(deep=True)\n",
        "    new_df = df.iloc[0:1,:]\n",
        "\n",
        "    new_df.loc[0] = [0]*len(df.columns)\n",
        "    for i in range(1,n):\n",
        "      X0 = df2.iloc[i-1,:]\n",
        "      X1= df2.iloc[i,:]\n",
        "      new_df.loc[i] = (X1-X0)/X0\n",
        "    return new_df\n",
        "\n",
        "  def create_sequence(self, data, seq_length):\n",
        "    sequence = [data.iloc[i:i+seq_length+1].tolist() for i in range(len(data)-seq_length+1+1)]\n",
        "\n",
        "    # 시퀀스 데이터프레임 생성\n",
        "    df = pd.DataFrame(sequence)\n",
        "\n",
        "    return df\n",
        "\n",
        "##############################\n",
        "\n",
        "  def arima(self, data):\n",
        "    model = ARIMA(data, order = self.order)\n",
        "    res = model.fit()\n",
        "    return res.forecast(steps=1)\n",
        "\n",
        "  def create_sequence_for_GRU(self, data, seq_length):\n",
        "    sequences = []\n",
        "    for i in range(len(data) - seq_length):\n",
        "        seq = data[i:i + seq_length]\n",
        "        target = data[i + seq_length:i + seq_length + 1]\n",
        "        sequences.append((seq, target))\n",
        "    return np.array(sequences)\n",
        "\n",
        "\n",
        "\n",
        "  def XGB_AR(self, data, seq_length):\n",
        "\n",
        "    seq_df = pd.DataFrame(self.create_sequence(data, seq_length))\n",
        "\n",
        "    X_train = seq_df.iloc[:-1,1:]\n",
        "    y_train = seq_df.iloc[:-1,0]\n",
        "    X_test = seq_df.iloc[-1:,1:]\n",
        "    y_test = seq_df.iloc[-1:,0]\n",
        "\n",
        "    model = xgb.XGBRegressor(**self.XGB_params)\n",
        "    model.fit(X_train, y_train)\n",
        "    pred_y = model.predict(X_test)\n",
        "    return pred_y\n",
        "\n",
        "  def GRU(self, data, seq_length):\n",
        "\n",
        "    sequences = self.create_sequence_for_GRU(data, seq_length)\n",
        "\n",
        "    train_sequences = sequences[:-1]\n",
        "    test_sequences = sequences[-1:]\n",
        "\n",
        "    X_train = np.array([item[0] for item in train_sequences])\n",
        "    y_train = np.array([item[1] for item in train_sequences])\n",
        "    X_test = np.array([item[0] for item in test_sequences])\n",
        "    y_test = np.array([item[1] for item in test_sequences])\n",
        "\n",
        "    model = self.GRU_model\n",
        "    model.fit(X_train, y_train, verbose=0)\n",
        "    pred_y = model.predict(X_test)\n",
        "    return pred_y\n",
        "\n",
        "\n",
        "  def get_mean(self, r_bar, return_data, n_columns, len_return):\n",
        "    if r_bar == 'ARIMA':\n",
        "      Mean = []\n",
        "      for j in range (n_columns):\n",
        "        Mean.append(float(self.arima(return_data.iloc[:,j])))\n",
        "      Mean = matrix(Mean)\n",
        "    elif r_bar[0:2] == 'MA':\n",
        "      MA_len = int(r_bar[2:])\n",
        "      if MA_len >= len(return_data):\n",
        "        Mean = matrix(list(return_data.mean()*len_return/(len_return-1)))\n",
        "      else:\n",
        "        Mean = matrix(list(return_data.iloc[-MA_len:,:].mean()))\n",
        "    elif r_bar == 'XGB':\n",
        "      Mean = []\n",
        "      for j in range (n_columns):\n",
        "        Mean.append(float(self.XGB_AR(return_data.iloc[:,j], 5)))\n",
        "      Mean = matrix(Mean)\n",
        "\n",
        "    elif r_bar == 'GRU':\n",
        "      Mean = []\n",
        "      for j in range (n_columns):\n",
        "        Mean.append(float(self.GRU(return_data.iloc[:,j], 5)))\n",
        "      Mean = matrix(Mean)\n",
        "\n",
        "\n",
        "    else:\n",
        "      Mean = matrix(list(return_data.mean()*len_return/(len_return-1)))\n",
        "    return Mean\n",
        "\n",
        "\n",
        "\n",
        "#################################\n",
        "\n",
        "  def Markowitz_max_sharp(self, df, r_bar, risk_free_rate, initial_invest, cov_len, start_point):\n",
        "\n",
        "    asset = initial_invest\n",
        "    asset_list = [asset]*(start_point-1)\n",
        "    n_rows = len(df)    # number of rows\n",
        "    columns = df.columns\n",
        "    n_columns = len(columns)   # number of columns\n",
        "\n",
        "\n",
        "    current_invest_num = [0]*n_columns\n",
        "    return_df = self.return_mat(df, len(df))\n",
        "    for i in range(start_point,n_rows):\n",
        "      return_data = return_df.iloc[:i+1,:]\n",
        "      data = df.iloc[:i+1,:]\n",
        "      prior_stock_price=[]\n",
        "      current_stock_price=[]\n",
        "\n",
        "\n",
        "      for j in range(len(columns)):\n",
        "        prior_stock_price.append(data.iloc[i-1,j])\n",
        "        current_stock_price.append(data.iloc[i,j])\n",
        "\n",
        "        asset = asset+ (current_stock_price[j]-prior_stock_price[j])*current_invest_num[j]  # 주가 변동에 따른 자산변화\n",
        "      asset_list.append(asset)\n",
        "\n",
        "\n",
        "      n = len(columns)\n",
        "      len_return = len(return_data)\n",
        "\n",
        "      Cov = matrix(np.array(return_data.iloc[max(0,len(return_data)-cov_len):-1,:].cov()))\n",
        "\n",
        "      Mean = self.get_mean(r_bar, return_data, n_columns, len_return)\n",
        "\n",
        "      def calculate_portfolio_return(weights, mean_returns):\n",
        "          return np.sum(weights * mean_returns)\n",
        "\n",
        "      def calculate_portfolio_risk(weights, cov_matrix):\n",
        "          portfolio_stddev = np.sqrt(np.dot(weights.T, np.dot(cov_matrix, weights)))\n",
        "          return portfolio_stddev\n",
        "\n",
        "      def objective_function(weights, mean_returns, cov_matrix, risk_free_rate):\n",
        "          portfolio_return = calculate_portfolio_return(weights, mean_returns)\n",
        "          portfolio_risk = calculate_portfolio_risk(weights, cov_matrix)\n",
        "          return (portfolio_return - risk_free_rate) / portfolio_risk\n",
        "\n",
        "      initial_weights = [1/n_columns] * n_columns\n",
        "      risk_free_rate = 0\n",
        "\n",
        "\n",
        "      constraints = (\n",
        "          {'type': 'eq', 'fun': lambda weights: np.sum(weights) - 1},  # 가중치의 합 = 1\n",
        "          {'type': 'ineq', 'fun': lambda weights: weights}  # 비음조건\n",
        "      )\n",
        "      result = minimize(\n",
        "          lambda weights: -objective_function(weights, Mean, Cov, risk_free_rate),\n",
        "          initial_weights, method='SLSQP', constraints=constraints\n",
        "      )\n",
        "\n",
        "      ratio = result.x\n",
        "\n",
        "      invest_num_data=[]\n",
        "      for j in range(len(columns)):\n",
        "        invest_num_data.append(data.iloc[i,j])\n",
        "      current_invest_num = self.invest_num(ratio, invest_num_data, asset) # 주식 개수 업데이트\n",
        "      print(f'{(i-start_point+1)/(n_rows-start_point)*100}%')\n",
        "      clear_output(wait=True)\n",
        "\n",
        "\n",
        "    for j in range(len(columns)):\n",
        "      prior_stock_price.append(data.iloc[i-1,j])\n",
        "      current_stock_price.append(data.iloc[i,j])\n",
        "\n",
        "      asset = asset+ (current_stock_price[j]-prior_stock_price[j])*current_invest_num[j]\n",
        "    asset_list.append(asset)\n",
        "\n",
        "    return asset_list\n",
        "\n",
        "\n",
        "  def Holding(self, df, startpoint):\n",
        "    asset = self.initial_invest\n",
        "\n",
        "    first_price = []\n",
        "    last_price = []\n",
        "    asset_dividen = [asset/len(df.columns)]*len(df.columns)\n",
        "    num_of_stock = []\n",
        "\n",
        "    for i in range (len(df.columns)):\n",
        "      first_price.append(df.iloc[startpoint,:][i])\n",
        "      last_price.append(df.iloc[len(df)-1,:][i])\n",
        "      num_of_stock.append(asset_dividen[i]//first_price[i])\n",
        "      asset_dividen[i] = asset_dividen[i]+(last_price[i]-first_price[i])*num_of_stock[i]\n",
        "\n",
        "    return sum(asset_dividen)\n",
        "\n",
        "\n",
        "\n",
        "  def simulate(self, df):\n",
        "\n",
        "    params = {'r_bar' : 'MA5',\n",
        "              'risk_free_rate' : 0.0025,\n",
        "              'initial_invest' : 100000000,\n",
        "              'cov_len' : 10,\n",
        "              'start_point' : (int(len(df)*0.7)//1)}\n",
        "\n",
        "\n",
        "    if self.params == None:\n",
        "      pass\n",
        "    else:\n",
        "      params = {**params, **self.params}\n",
        "    risk_free_rate = params['risk_free_rate']\n",
        "    r_bar = params['r_bar']\n",
        "    initial_invest = params['initial_invest']\n",
        "    cov_len = params['cov_len']\n",
        "    start_point = params['start_point']\n",
        "\n",
        "    if params['r_bar'] == 'ARIMA':\n",
        "      self.order = params['ARIMA_order']\n",
        "\n",
        "    elif params['r_bar'] == 'XGB':\n",
        "      self.XGB_params == params['XGB_params']\n",
        "\n",
        "    elif params['r_bar'] == 'GRU':\n",
        "      self.GRU_model = params['GRU_model']\n",
        "\n",
        "\n",
        "    result = self.Markowitz_max_sharp(df, r_bar, risk_free_rate, initial_invest, cov_len, start_point)\n",
        "\n",
        "    return result[start_point-1:]\n"
      ]
    },
    {
      "cell_type": "markdown",
      "metadata": {
        "id": "LVX2W4QrFBjq"
      },
      "source": [
        "# 모델 생성"
      ]
    },
    {
      "cell_type": "markdown",
      "source": [
        "model1은 다음 기간의 기대수익의 값으로 5 기간 동안의 이동평균(Moving Average) 값을 사용합니다.\n",
        "\n",
        "risk_free_rate는 주식에 투자가 아닌 은행에 넣었을 때의 예상 수익률을 사용합니다. 연간 시중금리를 3퍼센트로 가정하면 1 기간(10 영업일) 동안의 risk free rate는 약 0.125퍼센트 입니다.\n",
        "\n",
        "cov_len은 최적화 식의 공분산으로 사용할 값의 길이를 지정합니다. cov_len을 10으로 설정하면 10 기간 동안의 공분산을 사용합니다.\n",
        "\n",
        "start_point는 투자를 시작하는 시점을 지정합니다. 현재 데이터프레임에서의 start_point가 400일 경우, 2016년 3월부터 2022년 말까지 투자하는 것을 시뮬레이션합니다."
      ],
      "metadata": {
        "id": "lw7ElqdXSIl4"
      }
    },
    {
      "cell_type": "code",
      "execution_count": null,
      "metadata": {
        "id": "TXDkvT4wTScN"
      },
      "outputs": [],
      "source": [
        "params1 = {'r_bar' : 'MA5',\n",
        "           'risk_free_rate' : 0.00125,\n",
        "           'cov_len' : 10,\n",
        "           'start_point' : 400}\n",
        "\n",
        "model1 = Markowitz_model(params1)\n",
        "result1 = model1.simulate(df[my_portfolio])"
      ]
    },
    {
      "cell_type": "markdown",
      "source": [
        "model2는 model1과 다른 조건을 동일하게 지정하고, 기대 수익 예측에 ARIMA 모델을 사용합니다. 여기서 사용하는 ARIMA 모델의 (p, d, q)의 값은 (1, 1, 1)입니다."
      ],
      "metadata": {
        "id": "OPD7VyhHUK-c"
      }
    },
    {
      "cell_type": "code",
      "execution_count": null,
      "metadata": {
        "id": "Z8gALQBEu3ay"
      },
      "outputs": [],
      "source": [
        "params2 = {'r_bar' : 'ARIMA',\n",
        "           'ARIMA_order' : (1, 1, 1),\n",
        "           'risk_free_rate' : 0.00125,\n",
        "           'cov_len' : 10,\n",
        "           'start_point' : 400}\n",
        "\n",
        "model2 = Markowitz_model(params2)\n",
        "result2 = model2.simulate(df[my_portfolio])"
      ]
    },
    {
      "cell_type": "markdown",
      "source": [
        "model3는 기대수익의 예측값에 XGBoost를 사용합니다. 이전 5 기간의 수익률을 각각의 feature로 지정하고, 자기회귀의 결과를 예측값으로 사용합니다."
      ],
      "metadata": {
        "id": "VcBfnz7NUcyb"
      }
    },
    {
      "cell_type": "code",
      "execution_count": null,
      "metadata": {
        "id": "HONn3XVlu54p"
      },
      "outputs": [],
      "source": [
        "hyperparameters = {\n",
        "    'n_estimators': 30,\n",
        "    'learning_rate': 0.1,\n",
        "    'max_depth': 5,\n",
        "    'min_child_weight': 1,\n",
        "    'subsample': 0.8,\n",
        "    'colsample_bytree': 0.8,\n",
        "    'reg_alpha': 0,\n",
        "    'reg_lambda': 1}\n",
        "\n",
        "\n",
        "params3 = {'r_bar' : 'XGB',\n",
        "           'XGB_params' : hyperparameters,\n",
        "           'risk_free_rate' : 0.00125,\n",
        "           'cov_len' : 10,\n",
        "           'start_point' : 400\n",
        "           }\n",
        "\n",
        "model3 = Markowitz_model(params3)\n",
        "result3 = model3.simulate(df[my_portfolio])"
      ]
    },
    {
      "cell_type": "markdown",
      "source": [
        "model4는 기대수익의 예측값으로 순환신경망 모델인 GRU를 사용합니다. 이때 input_shape를 (5, 1)로 지정하였습니다."
      ],
      "metadata": {
        "id": "_fpmyd1YUuZz"
      }
    },
    {
      "cell_type": "code",
      "execution_count": null,
      "metadata": {
        "id": "kWonP4DdCqOY"
      },
      "outputs": [],
      "source": [
        "GRU_model = Sequential()\n",
        "GRU_model.add(GRU(32, input_shape=(5,1)))\n",
        "GRU_model.add(Dense(16))\n",
        "GRU_model.add(Dense(1))\n",
        "GRU_model.compile(optimizer='rmsprop', loss='mse', metrics=['mae'])\n",
        "\n",
        "params4 = {'r_bar' : 'GRU',\n",
        "           'GRU_model' : GRU_model,\n",
        "           'risk_free_rate' : 0.00125,\n",
        "           'cov_len' : 10,\n",
        "           'start_point' : 400\n",
        "           }\n",
        "\n",
        "model4 = Markowitz_model(params4)\n",
        "result4 = model4.simulate(df[my_portfolio])\n"
      ]
    },
    {
      "cell_type": "markdown",
      "source": [
        "# 각 4개의 모델에서 포트폴리오의 수익률을 확인합니다.\n",
        "total return은 (마지막 시점의 자산 총량 - 첫 시점의 자산 총량)/첫 시점의 자상 총량의 퍼센트값으로 사용합니다.\n",
        "예를들어 초기 투자 금액이 1000원, 마지막 기간의 자산 총액이 2000원이면 수익률은 100%가 됩니다."
      ],
      "metadata": {
        "id": "nQ7VQ3BOVGY8"
      }
    },
    {
      "cell_type": "code",
      "execution_count": null,
      "metadata": {
        "id": "KjMu8vve5p3r"
      },
      "outputs": [],
      "source": [
        "returns1 = get_returns(result1)\n",
        "plt.plot(returns1)\n",
        "plt.plot([0]*len(result1))\n",
        "plt.show()\n",
        "print(f'mean return by model1 = {sum(returns1)/len(returns1)}')\n",
        "print(f'risk by model1 = {get_risk(returns1)}')\n",
        "print(f'total return by model1 = {(result1[-1]-result1[0])/result1[0]*100}%')"
      ]
    },
    {
      "cell_type": "code",
      "execution_count": null,
      "metadata": {
        "id": "5No-ZtTuvqhI"
      },
      "outputs": [],
      "source": [
        "returns2 = get_returns(result2)\n",
        "plt.plot(returns2)\n",
        "plt.plot([0]*len(result2))\n",
        "plt.show()\n",
        "print(f'mean return by model2 = {sum(returns2)/len(returns2)}')\n",
        "print(f'risk by model2 = {get_risk(returns2)}')\n",
        "print(f'total return by model2 = {(result2[-1]-result2[0])/result2[0]*100}%')"
      ]
    },
    {
      "cell_type": "code",
      "execution_count": null,
      "metadata": {
        "id": "mk_sjEi0A05U"
      },
      "outputs": [],
      "source": [
        "returns3 = get_returns(result3)\n",
        "plt.plot(returns3)\n",
        "plt.plot([0]*len(result3))\n",
        "plt.show()\n",
        "print(f'mean return by model3 = {sum(returns3)/len(returns3)}')\n",
        "print(f'risk by model3 = {get_risk(returns3)}')\n",
        "print(f'total return by model3 = {(result3[-1]-result3[0])/result3[0]*100}%')"
      ]
    },
    {
      "cell_type": "code",
      "execution_count": null,
      "metadata": {
        "id": "K_OsKKKO139N"
      },
      "outputs": [],
      "source": [
        "returns4 = get_returns(result4)\n",
        "plt.plot(returns4)\n",
        "plt.plot([0]*len(result4))\n",
        "plt.show()\n",
        "print(f'mean return by model4 = {sum(returns4)/len(returns4)}')\n",
        "print(f'risk by model4 = {get_risk(returns4)}')\n",
        "print(f'total return by model4 = {(result4[-1]-result4[0])/result4[0]*100}%')"
      ]
    },
    {
      "cell_type": "code",
      "execution_count": null,
      "metadata": {
        "id": "7nyAxXHPC45P"
      },
      "outputs": [],
      "source": [
        "model1_result = pd.DataFrame({'model1' : result1})\n",
        "model2_result = pd.DataFrame({'model1' : result2})\n",
        "model3_result = pd.DataFrame({'model1' : result3})\n",
        "model4_result = pd.DataFrame({'model1' : result4})"
      ]
    },
    {
      "cell_type": "markdown",
      "source": [
        "각 모델을 통해 변화한 자산의 정보를 csv파일로 각각 저장합니다."
      ],
      "metadata": {
        "id": "PscRB-NAVmIf"
      }
    },
    {
      "cell_type": "code",
      "execution_count": null,
      "metadata": {
        "id": "ox02hBrFEkAA"
      },
      "outputs": [],
      "source": [
        "from google.colab import drive\n",
        "drive.mount('/content/drive')\n",
        "\n",
        "model1_result.to_csv('/content/drive/My Drive/model1_result.csv', index=False)\n",
        "model2_result.to_csv('/content/drive/My Drive/model2_result.csv', index=False)\n",
        "model3_result.to_csv('/content/drive/My Drive/model3_result.csv', index=False)\n",
        "model4_result.to_csv('/content/drive/My Drive/model4_result.csv', index=False)"
      ]
    }
  ],
  "metadata": {
    "colab": {
      "provenance": [],
      "authorship_tag": "ABX9TyOxqczFe2lbHdkcMJgKjwe7",
      "include_colab_link": true
    },
    "kernelspec": {
      "display_name": "Python 3",
      "name": "python3"
    },
    "language_info": {
      "name": "python"
    }
  },
  "nbformat": 4,
  "nbformat_minor": 0
}
